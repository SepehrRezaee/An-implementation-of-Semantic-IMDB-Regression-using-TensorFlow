{
  "cells": [
    {
      "cell_type": "code",
      "execution_count": null,
      "metadata": {
        "id": "uwNn3It8DHU_"
      },
      "outputs": [],
      "source": [
        "import numpy as np\n",
        "import pandas as pd\n",
        "import seaborn as sns\n",
        "import matplotlib.pyplot as plt\n",
        "import nltk\n",
        "from sklearn import tree\n",
        "from sklearn.feature_extraction.text import CountVectorizer\n",
        "from sklearn.feature_extraction.text import TfidfVectorizer\n",
        "from sklearn.preprocessing import LabelBinarizer\n",
        "from nltk.corpus import stopwords\n",
        "from nltk.stem.porter import PorterStemmer\n",
        "from wordcloud import WordCloud,STOPWORDS\n",
        "from nltk.stem import WordNetLemmatizer\n",
        "from nltk.tokenize import word_tokenize,sent_tokenize\n",
        "from bs4 import BeautifulSoup\n",
        "import spacy\n",
        "import re,string,unicodedata\n",
        "from nltk.tokenize.toktok import ToktokTokenizer\n",
        "from nltk.stem import LancasterStemmer,WordNetLemmatizer\n",
        "from sklearn.linear_model import LogisticRegression,SGDClassifier\n",
        "from sklearn.naive_bayes import MultinomialNB\n",
        "from sklearn.svm import SVC\n",
        "from textblob import TextBlob\n",
        "from textblob import Word\n",
        "from sklearn.metrics import classification_report,confusion_matrix,accuracy_score\n",
        "from sklearn.neural_network import MLPClassifier\n",
        "from sklearn.datasets import make_classification\n",
        "from sklearn.model_selection import train_test_split\n",
        "\n",
        "\n",
        "import os\n",
        "import warnings\n",
        "warnings.filterwarnings('ignore')"
      ]
    },
    {
      "cell_type": "code",
      "execution_count": null,
      "metadata": {
        "colab": {
          "base_uri": "https://localhost:8080/"
        },
        "id": "jAh4Vq3lGxPQ",
        "outputId": "0e4ab95b-d57b-43bd-8c96-63f1e3c6b20c"
      },
      "outputs": [
        {
          "name": "stdout",
          "output_type": "stream",
          "text": [
            "{'train reviews shape': (40000,), 'train sentiment shape': (40000,), 'test reviews shape': (10000,), 'test sentiment shape': (10000,)}\n"
          ]
        }
      ],
      "source": [
        "imdb_data = pd.read_csv(\"/content/drive/MyDrive/Colab Notebooks/IMDB Dataset.csv\")\n",
        "\n",
        "# Dataset training\n",
        "train_reviews = imdb_data.review[:40000]\n",
        "train_sentiment = imdb_data.sentiment[:40000]\n",
        "\n",
        "# Dataset testing\n",
        "test_reviews = imdb_data.review[40000:]\n",
        "test_sentiment = imdb_data.sentiment[40000:]\n",
        "\n",
        "print({\n",
        "    \"train reviews shape\": train_reviews.shape,\n",
        "    \"train sentiment shape\": train_sentiment.shape,\n",
        "    \"test reviews shape\": test_reviews.shape,\n",
        "    \"test sentiment shape\": test_sentiment.shape\n",
        "    })"
      ]
    },
    {
      "cell_type": "code",
      "execution_count": null,
      "metadata": {
        "colab": {
          "base_uri": "https://localhost:8080/",
          "height": 175
        },
        "id": "41G_k7JkHRkY",
        "outputId": "39ade95c-02a9-4253-cc76-f922c77778b4"
      },
      "outputs": [
        {
          "data": {
            "text/html": [
              "\n",
              "  <div id=\"df-78a8c60b-a67c-4f07-9cd9-37dafe98b803\">\n",
              "    <div class=\"colab-df-container\">\n",
              "      <div>\n",
              "<style scoped>\n",
              "    .dataframe tbody tr th:only-of-type {\n",
              "        vertical-align: middle;\n",
              "    }\n",
              "\n",
              "    .dataframe tbody tr th {\n",
              "        vertical-align: top;\n",
              "    }\n",
              "\n",
              "    .dataframe thead th {\n",
              "        text-align: right;\n",
              "    }\n",
              "</style>\n",
              "<table border=\"1\" class=\"dataframe\">\n",
              "  <thead>\n",
              "    <tr style=\"text-align: right;\">\n",
              "      <th></th>\n",
              "      <th>review</th>\n",
              "      <th>sentiment</th>\n",
              "    </tr>\n",
              "  </thead>\n",
              "  <tbody>\n",
              "    <tr>\n",
              "      <th>count</th>\n",
              "      <td>50000</td>\n",
              "      <td>50000</td>\n",
              "    </tr>\n",
              "    <tr>\n",
              "      <th>unique</th>\n",
              "      <td>49582</td>\n",
              "      <td>2</td>\n",
              "    </tr>\n",
              "    <tr>\n",
              "      <th>top</th>\n",
              "      <td>Loved today's show!!! It was a variety and not...</td>\n",
              "      <td>positive</td>\n",
              "    </tr>\n",
              "    <tr>\n",
              "      <th>freq</th>\n",
              "      <td>5</td>\n",
              "      <td>25000</td>\n",
              "    </tr>\n",
              "  </tbody>\n",
              "</table>\n",
              "</div>\n",
              "      <button class=\"colab-df-convert\" onclick=\"convertToInteractive('df-78a8c60b-a67c-4f07-9cd9-37dafe98b803')\"\n",
              "              title=\"Convert this dataframe to an interactive table.\"\n",
              "              style=\"display:none;\">\n",
              "        \n",
              "  <svg xmlns=\"http://www.w3.org/2000/svg\" height=\"24px\"viewBox=\"0 0 24 24\"\n",
              "       width=\"24px\">\n",
              "    <path d=\"M0 0h24v24H0V0z\" fill=\"none\"/>\n",
              "    <path d=\"M18.56 5.44l.94 2.06.94-2.06 2.06-.94-2.06-.94-.94-2.06-.94 2.06-2.06.94zm-11 1L8.5 8.5l.94-2.06 2.06-.94-2.06-.94L8.5 2.5l-.94 2.06-2.06.94zm10 10l.94 2.06.94-2.06 2.06-.94-2.06-.94-.94-2.06-.94 2.06-2.06.94z\"/><path d=\"M17.41 7.96l-1.37-1.37c-.4-.4-.92-.59-1.43-.59-.52 0-1.04.2-1.43.59L10.3 9.45l-7.72 7.72c-.78.78-.78 2.05 0 2.83L4 21.41c.39.39.9.59 1.41.59.51 0 1.02-.2 1.41-.59l7.78-7.78 2.81-2.81c.8-.78.8-2.07 0-2.86zM5.41 20L4 18.59l7.72-7.72 1.47 1.35L5.41 20z\"/>\n",
              "  </svg>\n",
              "      </button>\n",
              "      \n",
              "  <style>\n",
              "    .colab-df-container {\n",
              "      display:flex;\n",
              "      flex-wrap:wrap;\n",
              "      gap: 12px;\n",
              "    }\n",
              "\n",
              "    .colab-df-convert {\n",
              "      background-color: #E8F0FE;\n",
              "      border: none;\n",
              "      border-radius: 50%;\n",
              "      cursor: pointer;\n",
              "      display: none;\n",
              "      fill: #1967D2;\n",
              "      height: 32px;\n",
              "      padding: 0 0 0 0;\n",
              "      width: 32px;\n",
              "    }\n",
              "\n",
              "    .colab-df-convert:hover {\n",
              "      background-color: #E2EBFA;\n",
              "      box-shadow: 0px 1px 2px rgba(60, 64, 67, 0.3), 0px 1px 3px 1px rgba(60, 64, 67, 0.15);\n",
              "      fill: #174EA6;\n",
              "    }\n",
              "\n",
              "    [theme=dark] .colab-df-convert {\n",
              "      background-color: #3B4455;\n",
              "      fill: #D2E3FC;\n",
              "    }\n",
              "\n",
              "    [theme=dark] .colab-df-convert:hover {\n",
              "      background-color: #434B5C;\n",
              "      box-shadow: 0px 1px 3px 1px rgba(0, 0, 0, 0.15);\n",
              "      filter: drop-shadow(0px 1px 2px rgba(0, 0, 0, 0.3));\n",
              "      fill: #FFFFFF;\n",
              "    }\n",
              "  </style>\n",
              "\n",
              "      <script>\n",
              "        const buttonEl =\n",
              "          document.querySelector('#df-78a8c60b-a67c-4f07-9cd9-37dafe98b803 button.colab-df-convert');\n",
              "        buttonEl.style.display =\n",
              "          google.colab.kernel.accessAllowed ? 'block' : 'none';\n",
              "\n",
              "        async function convertToInteractive(key) {\n",
              "          const element = document.querySelector('#df-78a8c60b-a67c-4f07-9cd9-37dafe98b803');\n",
              "          const dataTable =\n",
              "            await google.colab.kernel.invokeFunction('convertToInteractive',\n",
              "                                                     [key], {});\n",
              "          if (!dataTable) return;\n",
              "\n",
              "          const docLinkHtml = 'Like what you see? Visit the ' +\n",
              "            '<a target=\"_blank\" href=https://colab.research.google.com/notebooks/data_table.ipynb>data table notebook</a>'\n",
              "            + ' to learn more about interactive tables.';\n",
              "          element.innerHTML = '';\n",
              "          dataTable['output_type'] = 'display_data';\n",
              "          await google.colab.output.renderOutput(dataTable, element);\n",
              "          const docLink = document.createElement('div');\n",
              "          docLink.innerHTML = docLinkHtml;\n",
              "          element.appendChild(docLink);\n",
              "        }\n",
              "      </script>\n",
              "    </div>\n",
              "  </div>\n",
              "  "
            ],
            "text/plain": [
              "                                                   review sentiment\n",
              "count                                               50000     50000\n",
              "unique                                              49582         2\n",
              "top     Loved today's show!!! It was a variety and not...  positive\n",
              "freq                                                    5     25000"
            ]
          },
          "execution_count": 3,
          "metadata": {},
          "output_type": "execute_result"
        }
      ],
      "source": [
        "imdb_data.describe()"
      ]
    },
    {
      "cell_type": "code",
      "execution_count": null,
      "metadata": {
        "colab": {
          "base_uri": "https://localhost:8080/"
        },
        "id": "kxuSSor2HY22",
        "outputId": "a3a9675f-e66d-4c1d-ca0f-68f6d00069a7"
      },
      "outputs": [
        {
          "data": {
            "text/plain": [
              "positive    25000\n",
              "negative    25000\n",
              "Name: sentiment, dtype: int64"
            ]
          },
          "execution_count": 4,
          "metadata": {},
          "output_type": "execute_result"
        }
      ],
      "source": [
        "imdb_data['sentiment'].value_counts()"
      ]
    },
    {
      "cell_type": "code",
      "execution_count": null,
      "metadata": {
        "colab": {
          "base_uri": "https://localhost:8080/"
        },
        "id": "C31GkMOmsAdz",
        "outputId": "a02d8c26-1d6f-4795-cd99-67b9101a5743"
      },
      "outputs": [
        {
          "name": "stderr",
          "output_type": "stream",
          "text": [
            "[nltk_data] Downloading package stopwords to /root/nltk_data...\n",
            "[nltk_data]   Package stopwords is already up-to-date!\n"
          ]
        },
        {
          "data": {
            "text/plain": [
              "True"
            ]
          },
          "execution_count": 5,
          "metadata": {},
          "output_type": "execute_result"
        }
      ],
      "source": [
        "nltk.download('stopwords')"
      ]
    },
    {
      "cell_type": "code",
      "execution_count": null,
      "metadata": {
        "id": "qXUb9CryHgua"
      },
      "outputs": [],
      "source": [
        "# Normalization of text\n",
        "tokenizer=ToktokTokenizer()\n",
        "\n",
        "stopword_list=nltk.corpus.stopwords.words('english')"
      ]
    },
    {
      "cell_type": "code",
      "execution_count": null,
      "metadata": {
        "colab": {
          "base_uri": "https://localhost:8080/"
        },
        "id": "jr84nArproK1",
        "outputId": "060ccb79-fad4-4977-d807-5ff97cac39d8"
      },
      "outputs": [
        {
          "name": "stdout",
          "output_type": "stream",
          "text": [
            "{'those', 'own', 'isn', \"wasn't\", 'did', 'is', 't', 'other', 'no', 'o', \"shouldn't\", 'very', 'weren', 'can', 'his', 'any', 'don', \"mightn't\", 'ourselves', 'me', 'before', 'more', 'most', \"won't\", 'after', \"aren't\", 'on', \"needn't\", 'himself', 'was', 'out', 'by', \"didn't\", 'does', 'an', 'from', 'during', 'down', 'than', 'these', 'd', 'ours', 'y', 'as', 'we', 'up', 've', 'nor', 'myself', \"haven't\", \"doesn't\", 'will', 'where', 'here', 'shouldn', 'there', 'only', 'doing', 'they', 're', 'the', 'mustn', 'how', \"isn't\", 'my', 'then', \"you've\", 'do', 'too', 'just', 'who', 'to', 'should', 'so', 'has', \"hasn't\", 'each', 'through', 'were', 'and', \"couldn't\", 'it', 'won', \"mustn't\", 'same', 'not', \"weren't\", 'wouldn', \"shan't\", \"that'll\", 'theirs', 's', 'shan', 'their', 'herself', \"she's\", 'having', 'above', 'll', 'yourself', 'ma', 'she', 'haven', 'themselves', 'but', 'doesn', 'all', \"it's\", 'into', 'whom', \"you'd\", 'that', 'about', 'he', 'some', 'i', 'him', 'its', 'have', 'under', 'your', 'hasn', 'am', 'at', 'yourselves', 'which', 'a', 'm', \"hadn't\", 'why', 'in', 'couldn', 'wasn', 'hers', 'against', 'what', 'for', 'yours', 'of', 'itself', 'be', 'because', 'been', 'or', 'you', \"wouldn't\", 'both', 'are', 'being', 'further', 'had', 'over', 'her', 'this', \"should've\", 'between', 'with', 'until', 'if', 'few', 'when', 'needn', 'off', 'them', 'below', 'again', 'aren', 'our', \"you're\", 'mightn', 'once', 'while', 'such', \"don't\", 'ain', \"you'll\", 'hadn', 'didn', 'now'}\n"
          ]
        }
      ],
      "source": [
        "#Removing the html strips\n",
        "def strip_html(text):\n",
        "    soup = BeautifulSoup(text, \"html.parser\")\n",
        "    return soup.get_text()\n",
        "\n",
        "#Removing the square brackets\n",
        "def remove_between_square_brackets(text):\n",
        "    return re.sub('\\[[^]]*\\]', '', text)\n",
        "\n",
        "#Define function for removing special characters\n",
        "def remove_special_and_noisy_characters(text, remove_digits=True):\n",
        "    text = strip_html(text)\n",
        "    text = remove_between_square_brackets(text)\n",
        "    pattern=r'[^a-zA-z0-9\\s]'\n",
        "    text=re.sub(pattern,'',text)\n",
        "    return text\n",
        "\n",
        "\n",
        "#removing the stopwords\n",
        "def remove_stopwords(text, is_lower_case=False):\n",
        "    text = remove_special_and_noisy_characters(text)\n",
        "    tokens = tokenizer.tokenize(text)\n",
        "    tokens = [token.strip() for token in tokens]\n",
        "    if is_lower_case:\n",
        "        filtered_tokens = [token for token in tokens if token not in stopword_list]\n",
        "    else:\n",
        "        filtered_tokens = [token for token in tokens if token.lower() not in stopword_list]\n",
        "    filtered_text = ' '.join(filtered_tokens)    \n",
        "    return filtered_text\n",
        "\n",
        "stop=set(stopwords.words('english'))\n",
        "print(stop)\n",
        "\n",
        "imdb_data['review'] = imdb_data['review'].apply(remove_stopwords)"
      ]
    },
    {
      "cell_type": "code",
      "execution_count": null,
      "metadata": {
        "colab": {
          "base_uri": "https://localhost:8080/",
          "height": 52
        },
        "id": "iyzRYOewtQHb",
        "outputId": "5de2e4a8-cdac-415f-8744-21ec4ffda26f"
      },
      "outputs": [
        {
          "data": {
            "application/vnd.google.colaboratory.intrinsic+json": {
              "type": "string"
            },
            "text/plain": [
              "'really loved movie spent several years trying get available TV many many years enjoyed songs something different say made think every person looks something different prespectives Also often dont appreciate something till longer thereMy 12 year old daughter discoverd music entranced songs Someday hope get copy film opportunity view Oh would love see'"
            ]
          },
          "execution_count": 8,
          "metadata": {},
          "output_type": "execute_result"
        }
      ],
      "source": [
        "#normalized train reviews\n",
        "norm_train_reviews=imdb_data.review[:40000]\n",
        "norm_train_reviews[0]\n",
        "\n",
        "#Normalized test reviews\n",
        "norm_test_reviews=imdb_data.review[40000:]\n",
        "norm_test_reviews[45054]"
      ]
    },
    {
      "cell_type": "code",
      "execution_count": null,
      "metadata": {
        "id": "ludjFvAJtvSA"
      },
      "outputs": [],
      "source": [
        "#Count vectorizer for bag of words\n",
        "cv=CountVectorizer(min_df=0,max_df=1,binary=False,ngram_range=(1,3))\n",
        "\n",
        "#transformed train reviews\n",
        "cv_train_reviews=cv.fit_transform(norm_train_reviews)\n",
        "\n",
        "#transformed test reviews\n",
        "cv_test_reviews=cv.transform(norm_test_reviews)"
      ]
    },
    {
      "cell_type": "code",
      "execution_count": null,
      "metadata": {
        "colab": {
          "base_uri": "https://localhost:8080/"
        },
        "id": "RuPniZjb1uhn",
        "outputId": "365175ee-65b2-4c55-e0b1-5fbf2f4859c5"
      },
      "outputs": [
        {
          "name": "stdout",
          "output_type": "stream",
          "text": [
            "BOW_cv_test: (10000, 6675873)\n"
          ]
        }
      ],
      "source": [
        "print('BOW_cv_test:',cv_test_reviews.shape)"
      ]
    },
    {
      "cell_type": "code",
      "execution_count": null,
      "metadata": {
        "colab": {
          "background_save": true
        },
        "id": "K-m5-NKbvrtm"
      },
      "outputs": [],
      "source": [
        "#Tfidf vectorizer\n",
        "tv=TfidfVectorizer(min_df=0,max_df=1,use_idf=True,ngram_range=(1,3))\n",
        "#transformed train reviews\n",
        "tv_train_reviews=tv.fit_transform(norm_train_reviews)\n",
        "#transformed test reviews\n",
        "tv_test_reviews=tv.transform(norm_test_reviews)"
      ]
    },
    {
      "cell_type": "code",
      "execution_count": null,
      "metadata": {
        "colab": {
          "background_save": true
        },
        "id": "a-Z9z1Pm2A6Q",
        "outputId": "3405398a-9631-41dd-c707-9e3b9bd87542"
      },
      "outputs": [
        {
          "name": "stdout",
          "output_type": "stream",
          "text": [
            "tv_test_reviews: (10000, 6675873)\n"
          ]
        }
      ],
      "source": [
        "print('tv_test_reviews:', tv_test_reviews.shape)"
      ]
    },
    {
      "cell_type": "code",
      "execution_count": null,
      "metadata": {
        "colab": {
          "background_save": true
        },
        "id": "mYMl2vM6v3qY"
      },
      "outputs": [],
      "source": [
        "#labeling the sentient data\n",
        "lb=LabelBinarizer()\n",
        "\n",
        "#transformed sentiment data\n",
        "sentiment_data=lb.fit_transform(imdb_data['sentiment'])\n",
        "\n",
        "#Spliting the sentiment data\n",
        "train_sentiments=sentiment_data[:40000]\n",
        "test_sentiments=sentiment_data[40000:]"
      ]
    },
    {
      "cell_type": "markdown",
      "metadata": {
        "id": "MLnGLj2A2ZCS"
      },
      "source": [
        "# **Logistic Regression**"
      ]
    },
    {
      "cell_type": "code",
      "execution_count": null,
      "metadata": {
        "colab": {
          "base_uri": "https://localhost:8080/"
        },
        "id": "WnHRmqQAwLGM",
        "outputId": "a9e7e99c-28b3-49fc-a895-1477eb638847"
      },
      "outputs": [
        {
          "name": "stdout",
          "output_type": "stream",
          "text": [
            "LogisticRegression(C=1, max_iter=500, random_state=42)\n",
            "LogisticRegression(C=1, max_iter=500, penalty='none', random_state=42)\n",
            "LogisticRegression(C=1, max_iter=500, random_state=42)\n",
            "LogisticRegression(C=1, max_iter=500, penalty='none', random_state=42)\n"
          ]
        }
      ],
      "source": [
        "#training the model using L2\n",
        "lr2=LogisticRegression(penalty='l2',max_iter=500,C=1,random_state=42)\n",
        "\n",
        "#training the model using L1\n",
        "lr1=LogisticRegression(penalty='none',max_iter=500,C=1,random_state=42)\n",
        "\n",
        "#Fitting the model for Bag of words\n",
        "lr_bow2=lr2.fit(cv_train_reviews,train_sentiments)\n",
        "lr_bow1=lr1.fit(cv_train_reviews,train_sentiments)\n",
        "\n",
        "print(lr_bow2)\n",
        "print(lr_bow1)\n",
        "\n",
        "#Fitting the model for tfidf features\n",
        "lr_tfidf2=lr2.fit(tv_train_reviews,train_sentiments)\n",
        "lr_tfidf1=lr1.fit(tv_train_reviews,train_sentiments)\n",
        "\n",
        "print(lr_tfidf2)\n",
        "print(lr_tfidf1)"
      ]
    },
    {
      "cell_type": "code",
      "execution_count": null,
      "metadata": {
        "colab": {
          "base_uri": "https://localhost:8080/"
        },
        "id": "uVdqKAcOx3ht",
        "outputId": "c05b02e6-4ea9-4827-a46b-17e8c6539a68"
      },
      "outputs": [
        {
          "name": "stdout",
          "output_type": "stream",
          "text": [
            "[0 0 0 ... 0 1 0]\n",
            "[0 0 0 ... 0 0 0]\n"
          ]
        }
      ],
      "source": [
        "#Predicting the model for bag of words\n",
        "lr_bow_predict2=lr2.predict(cv_test_reviews)\n",
        "print(lr_bow_predict2)\n",
        "\n",
        "lr_bow_predict1=lr1.predict(cv_test_reviews)\n",
        "print(lr_bow_predict1)\n",
        "\n",
        "##Predicting the model for tfidf features\n",
        "lr_tfidf_predict2=lr2.predict(tv_test_reviews)\n",
        "lr_tfidf_predict1=lr1.predict(tv_test_reviews)"
      ]
    },
    {
      "cell_type": "code",
      "execution_count": null,
      "metadata": {
        "colab": {
          "base_uri": "https://localhost:8080/"
        },
        "id": "BPE3wRHaye0p",
        "outputId": "87605b78-c8c5-43d6-883e-83c5f0bebec3"
      },
      "outputs": [
        {
          "name": "stdout",
          "output_type": "stream",
          "text": [
            "{'lr_bow_score1': 0.7451, 'lr_bow_score2': 0.743}\n",
            "{'lr_tfidf_score1': 0.7256, 'lr_tfidf_score2': 0.7438}\n"
          ]
        }
      ],
      "source": [
        "#Accuracy score for bag of words\n",
        "lr_bow_score1=accuracy_score(test_sentiments,lr_bow_predict1)\n",
        "lr_bow_score2=accuracy_score(test_sentiments,lr_bow_predict2)\n",
        "\n",
        "print({\n",
        "    \"lr_bow_score1\": lr_bow_score1,\n",
        "    \"lr_bow_score2\": lr_bow_score2\n",
        "    })\n",
        "\n",
        "#Accuracy score for tfidf features\n",
        "lr_tfidf_score1=accuracy_score(test_sentiments,lr_tfidf_predict1)\n",
        "lr_tfidf_score2=accuracy_score(test_sentiments,lr_tfidf_predict2)\n",
        "print({\n",
        "    \"lr_tfidf_score1\":lr_tfidf_score1,\n",
        "    \"lr_tfidf_score2\":lr_tfidf_score2\n",
        "    })"
      ]
    },
    {
      "cell_type": "markdown",
      "metadata": {
        "id": "bRYTafl72izn"
      },
      "source": [
        "# **Support Vector Machine**"
      ]
    },
    {
      "cell_type": "code",
      "execution_count": null,
      "metadata": {
        "colab": {
          "base_uri": "https://localhost:8080/"
        },
        "id": "B_SM63i13bGD",
        "outputId": "b14ad822-f63a-4aa5-c669-e9cf418ba64f"
      },
      "outputs": [
        {
          "name": "stdout",
          "output_type": "stream",
          "text": [
            "SGDClassifier(max_iter=500, random_state=42)\n",
            "SGDClassifier(max_iter=500, random_state=42)\n"
          ]
        }
      ],
      "source": [
        "#training the linear svm\n",
        "svm=SGDClassifier(loss='hinge',max_iter=500,random_state=42)\n",
        "\n",
        "#fitting the svm for bag of words\n",
        "svm_bow=svm.fit(cv_train_reviews,train_sentiments)\n",
        "print(svm_bow)\n",
        "\n",
        "#fitting the svm for tfidf features\n",
        "svm_tfidf=svm.fit(tv_train_reviews,train_sentiments)\n",
        "print(svm_tfidf)"
      ]
    },
    {
      "cell_type": "code",
      "execution_count": null,
      "metadata": {
        "colab": {
          "base_uri": "https://localhost:8080/"
        },
        "id": "CrFi-l0T69aY",
        "outputId": "f84724ca-06c3-454d-e0a0-8c648bd062d5"
      },
      "outputs": [
        {
          "name": "stdout",
          "output_type": "stream",
          "text": [
            "[1 1 1 ... 0 1 1]\n",
            "[1 1 1 ... 1 1 1]\n"
          ]
        }
      ],
      "source": [
        "#Predicting the model for bag of words\n",
        "svm_bow_predict=svm.predict(cv_test_reviews)\n",
        "print(svm_bow_predict)\n",
        "\n",
        "#Predicting the model for tfidf features\n",
        "svm_tfidf_predict=svm.predict(tv_test_reviews)\n",
        "print(svm_tfidf_predict)"
      ]
    },
    {
      "cell_type": "code",
      "execution_count": null,
      "metadata": {
        "colab": {
          "base_uri": "https://localhost:8080/"
        },
        "id": "BYnG9cRk6_kR",
        "outputId": "f449797c-6512-449f-bf15-90af258754b2"
      },
      "outputs": [
        {
          "name": "stdout",
          "output_type": "stream",
          "text": [
            "svm_bow_score : 0.5722\n",
            "svm_tfidf_score : 0.5111\n"
          ]
        }
      ],
      "source": [
        "#Accuracy score for bag of words\n",
        "svm_bow_score=accuracy_score(test_sentiments,svm_bow_predict)\n",
        "print(\"svm_bow_score :\",svm_bow_score)\n",
        "\n",
        "#Accuracy score for tfidf features\n",
        "svm_tfidf_score=accuracy_score(test_sentiments,svm_tfidf_predict)\n",
        "print(\"svm_tfidf_score :\",svm_tfidf_score)"
      ]
    },
    {
      "cell_type": "markdown",
      "metadata": {
        "id": "8OORyb0D7aN7"
      },
      "source": [
        "# **Multinomial Naive Bayes**"
      ]
    },
    {
      "cell_type": "code",
      "execution_count": null,
      "metadata": {
        "colab": {
          "base_uri": "https://localhost:8080/"
        },
        "id": "n7w5ddzQ7cyw",
        "outputId": "f8fc94ce-af28-4b68-9e7f-662776402472"
      },
      "outputs": [
        {
          "name": "stdout",
          "output_type": "stream",
          "text": [
            "MultinomialNB()\n",
            "MultinomialNB()\n"
          ]
        }
      ],
      "source": [
        "#training the model\n",
        "mnb=MultinomialNB()\n",
        "#fitting the svm for bag of words\n",
        "mnb_bow=mnb.fit(cv_train_reviews,train_sentiments)\n",
        "print(mnb_bow)\n",
        "#fitting the svm for tfidf features\n",
        "mnb_tfidf=mnb.fit(tv_train_reviews,train_sentiments)\n",
        "print(mnb_tfidf)"
      ]
    },
    {
      "cell_type": "code",
      "execution_count": null,
      "metadata": {
        "colab": {
          "base_uri": "https://localhost:8080/"
        },
        "id": "Em9aNLMk7e1Z",
        "outputId": "45580216-518e-47ba-f7d4-cb9b20592a63"
      },
      "outputs": [
        {
          "name": "stdout",
          "output_type": "stream",
          "text": [
            "[0 0 0 ... 0 1 0]\n",
            "[0 0 0 ... 0 1 0]\n"
          ]
        }
      ],
      "source": [
        "#Predicting the model for bag of words\n",
        "mnb_bow_predict=mnb.predict(cv_test_reviews)\n",
        "print(mnb_bow_predict)\n",
        "\n",
        "#Predicting the model for tfidf features\n",
        "mnb_tfidf_predict=mnb.predict(tv_test_reviews)\n",
        "print(mnb_tfidf_predict)"
      ]
    },
    {
      "cell_type": "code",
      "execution_count": null,
      "metadata": {
        "colab": {
          "base_uri": "https://localhost:8080/"
        },
        "id": "xndVQEqu7iZE",
        "outputId": "d7188348-965b-49d5-f782-e953ee8cc343"
      },
      "outputs": [
        {
          "name": "stdout",
          "output_type": "stream",
          "text": [
            "mnb_bow_score : 0.744\n",
            "mnb_tfidf_score : 0.7442\n"
          ]
        }
      ],
      "source": [
        "#Accuracy score for bag of words\n",
        "mnb_bow_score=accuracy_score(test_sentiments,mnb_bow_predict)\n",
        "print(\"mnb_bow_score :\",mnb_bow_score)\n",
        "\n",
        "#Accuracy score for tfidf features\n",
        "mnb_tfidf_score=accuracy_score(test_sentiments,mnb_tfidf_predict)\n",
        "print(\"mnb_tfidf_score :\",mnb_tfidf_score)"
      ]
    },
    {
      "cell_type": "markdown",
      "metadata": {
        "id": "nlvM99zl9fMr"
      },
      "source": [
        "# **MLP Classifier**"
      ]
    },
    {
      "cell_type": "code",
      "execution_count": null,
      "metadata": {
        "id": "cHzWyNo_9jhV"
      },
      "outputs": [],
      "source": [
        "#training the model\n",
        "mlp1=MLPClassifier(hidden_layer_sizes=(50,), random_state=1, max_iter=300).fit(cv_train_reviews, train_sentiments)\n",
        "print(mlp1)\n",
        "\n",
        "mlp2=MLPClassifier(hidden_layer_sizes=(50,), random_state=1, max_iter=300).fit(tv_train_reviews,train_sentiments)\n",
        "print(mlp2)"
      ]
    },
    {
      "cell_type": "code",
      "execution_count": null,
      "metadata": {
        "id": "qiEdFCG995mK"
      },
      "outputs": [],
      "source": [
        "# clf.predict(X_test[:5, :])\n",
        "# clf.score(X_test, y_test)\n",
        "\n",
        "mlp1_bow_predict=mlp1.predict_proba(cv_test_reviews)\n",
        "print(mlp1_bow_predict)\n",
        "\n",
        "#Predicting the model for tfidf features\n",
        "mlp2_tfidf_predict=mlp2.predict(tv_test_reviews)\n",
        "print(mlp2_tfidf_predict)"
      ]
    },
    {
      "cell_type": "code",
      "execution_count": null,
      "metadata": {
        "id": "tKrUuonT964W"
      },
      "outputs": [],
      "source": [
        "#Accuracy score for bag of words\n",
        "mlp1_bow_score=mlp1.score(test_sentiments,mlp1_bow_predict)\n",
        "print(\"mlp1_bow_score :\",mlp1_bow_score)\n",
        "\n",
        "#Accuracy score for tfidf features\n",
        "mlp2_tfidf_score=mlp2.score(test_sentiments,mlp2_tfidf_predict)\n",
        "print(\"mlp2_tfidf_score :\",mlp2_tfidf_score)"
      ]
    },
    {
      "cell_type": "code",
      "execution_count": null,
      "metadata": {
        "id": "zkUJ2dWsHE-S"
      },
      "outputs": [],
      "source": [
        ""
      ]
    }
  ],
  "metadata": {
    "colab": {
      "name": "IMDB.ipynb",
      "provenance": []
    },
    "gpuClass": "standard",
    "kernelspec": {
      "display_name": "Python 3",
      "name": "python3"
    },
    "language_info": {
      "name": "python"
    }
  },
  "nbformat": 4,
  "nbformat_minor": 0
}